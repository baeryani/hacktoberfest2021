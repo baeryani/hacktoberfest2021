{
 "cells": [
  {
   "cell_type": "code",
   "execution_count": 1,
   "id": "4d70fa8e",
   "metadata": {},
   "outputs": [],
   "source": [
    "import cv2\n",
    "import numpy as np\n",
    "import os\n",
    "import matplotlib.pyplot as plt\n",
    "import matplotlib.image as mpimg\n",
    "%matplotlib inline"
   ]
  },
  {
   "cell_type": "code",
   "execution_count": 2,
   "id": "90cb224d",
   "metadata": {},
   "outputs": [],
   "source": [
    "def getListOfFiles(dirName):\n",
    "    # create a list of file and sub directories \n",
    "    # names in the given directory \n",
    "    listOfFile = os.listdir(dirName)\n",
    "    allFiles = list()\n",
    "    # Iterate over all the entries\n",
    "    for entry in listOfFile:\n",
    "        # Create full path\n",
    "        fullPath = os.path.join(dirName, entry)\n",
    "        # If entry is a directory then get the list of files in this directory \n",
    "        if os.path.isdir(fullPath):\n",
    "            allFiles = allFiles + getListOfFiles(fullPath)\n",
    "        else:\n",
    "            allFiles.append(fullPath)\n",
    "                \n",
    "    return allFiles"
   ]
  },
  {
   "cell_type": "code",
   "execution_count": 32,
   "id": "ccceb2f3",
   "metadata": {},
   "outputs": [],
   "source": [
    "listOfImages = []\n",
    "listOfImages = getListOfFiles(\"./data/raw/8547\")"
   ]
  },
  {
   "cell_type": "code",
   "execution_count": 33,
   "id": "1d09d67f",
   "metadata": {},
   "outputs": [
    {
     "data": {
      "text/plain": [
       "['./data/raw/8547\\\\0.jpg',\n",
       " './data/raw/8547\\\\1.jpg',\n",
       " './data/raw/8547\\\\10.jpg',\n",
       " './data/raw/8547\\\\11.jpg',\n",
       " './data/raw/8547\\\\12.jpg',\n",
       " './data/raw/8547\\\\13.jpg',\n",
       " './data/raw/8547\\\\14.jpg',\n",
       " './data/raw/8547\\\\15.jpg',\n",
       " './data/raw/8547\\\\16.jpg',\n",
       " './data/raw/8547\\\\17.jpg',\n",
       " './data/raw/8547\\\\18.jpg',\n",
       " './data/raw/8547\\\\19.jpg',\n",
       " './data/raw/8547\\\\2.jpg',\n",
       " './data/raw/8547\\\\20.jpg',\n",
       " './data/raw/8547\\\\21.jpg',\n",
       " './data/raw/8547\\\\22.jpg',\n",
       " './data/raw/8547\\\\23.jpg',\n",
       " './data/raw/8547\\\\24.jpg',\n",
       " './data/raw/8547\\\\25.jpg',\n",
       " './data/raw/8547\\\\26.jpg',\n",
       " './data/raw/8547\\\\3.jpg',\n",
       " './data/raw/8547\\\\4.jpg',\n",
       " './data/raw/8547\\\\5.jpg',\n",
       " './data/raw/8547\\\\6.jpg',\n",
       " './data/raw/8547\\\\7.jpg',\n",
       " './data/raw/8547\\\\8.jpg',\n",
       " './data/raw/8547\\\\9.jpg']"
      ]
     },
     "execution_count": 33,
     "metadata": {},
     "output_type": "execute_result"
    }
   ],
   "source": [
    "listOfImages"
   ]
  },
  {
   "cell_type": "code",
   "execution_count": 34,
   "id": "6bde879f",
   "metadata": {},
   "outputs": [],
   "source": [
    "def segment_fp(images):\n",
    "    segmented_images = []\n",
    "    failed = []\n",
    "    for i, image in enumerate(images):\n",
    "        ret, thresh = cv2.threshold(image,0,255,cv2.THRESH_BINARY+cv2.THRESH_OTSU)\n",
    "        kernel = cv2.getStructuringElement(cv2.MORPH_ELLIPSE,(64,64))\n",
    "        img2 = cv2.morphologyEx(thresh, cv2.MORPH_OPEN, kernel)\n",
    "        img2 = cv2.morphologyEx(img2, cv2.MORPH_CLOSE, kernel)\n",
    "        nb_components, output, stats, centroids = cv2.connectedComponentsWithStats(img2, connectivity=4)\n",
    "        try:\n",
    "            max_label, max_size = max([(i, stats[i, cv2.CC_STAT_AREA]) for i in range(1, nb_components)], key=lambda x: x[1])\n",
    "            img2 = np.ones(output.shape) * 255\n",
    "            img2[output == max_label] = 0\n",
    "        except:\n",
    "            nb_components, output, stats, centroids = cv2.connectedComponentsWithStats(image, connectivity=4)\n",
    "            print('failed1')\n",
    "            img2 = images[i]\n",
    "        \n",
    "        try:\n",
    "            x,y,w,h = cv2.boundingRect(np.uint8(img2))\n",
    "        except:\n",
    "            failed.append((i, 'second'))\n",
    "            print('failed2')\n",
    "            segmented_images.append(images[i])\n",
    "            continue\n",
    "        segmented = image.copy()[y:y+h, x:x+w]\n",
    "        if segmented.shape[0] == 0 or segmented.shape[1] == 0:\n",
    "            failed.append((i, 'third'))\n",
    "            print('failed3')\n",
    "            segmented_images.append(images[i])\n",
    "            continue\n",
    "        segmented_images.append(img2)\n",
    "    return np.array(segmented_images)"
   ]
  },
  {
   "cell_type": "code",
   "execution_count": 35,
   "id": "d416083d",
   "metadata": {},
   "outputs": [],
   "source": [
    "images = []\n",
    "for image in listOfImages:\n",
    "    img = cv2.imread(image, 0)\n",
    "    images.append(img)"
   ]
  },
  {
   "cell_type": "code",
   "execution_count": 36,
   "id": "52eb41d4",
   "metadata": {},
   "outputs": [
    {
     "name": "stderr",
     "output_type": "stream",
     "text": [
      "<ipython-input-34-82dabcceb00f>:33: VisibleDeprecationWarning: Creating an ndarray from ragged nested sequences (which is a list-or-tuple of lists-or-tuples-or ndarrays with different lengths or shapes) is deprecated. If you meant to do this, you must specify 'dtype=object' when creating the ndarray\n",
      "  return np.array(segmented_images)\n"
     ]
    }
   ],
   "source": [
    "masks = segment_fp(images)"
   ]
  },
  {
   "cell_type": "code",
   "execution_count": 37,
   "id": "ea2a8eea",
   "metadata": {},
   "outputs": [
    {
     "data": {
      "text/plain": [
       "array([[0., 0., 0., ..., 0., 0., 0.],\n",
       "       [0., 0., 0., ..., 0., 0., 0.],\n",
       "       [0., 0., 0., ..., 0., 0., 0.],\n",
       "       ...,\n",
       "       [0., 0., 0., ..., 0., 0., 0.],\n",
       "       [0., 0., 0., ..., 0., 0., 0.],\n",
       "       [0., 0., 0., ..., 0., 0., 0.]])"
      ]
     },
     "execution_count": 37,
     "metadata": {},
     "output_type": "execute_result"
    }
   ],
   "source": [
    "masks[0]"
   ]
  },
  {
   "cell_type": "code",
   "execution_count": 38,
   "id": "3df2c7cc",
   "metadata": {},
   "outputs": [
    {
     "data": {
      "image/png": "[encoded data removed]",
      "text/plain": [
       "<Figure size 432x288 with 1 Axes>"
      ]
     },
     "metadata": {
      "needs_background": "light"
     },
     "output_type": "display_data"
    }
   ],
   "source": [
    "imgplot = plt.imshow(masks[3])"
   ]
  },
  {
   "cell_type": "code",
   "execution_count": 39,
   "id": "ed9c74de",
   "metadata": {},
   "outputs": [],
   "source": [
    "i = 0\n",
    "for mask in masks:\n",
    "    fileName = listOfImages[i]\n",
    "    cv2.imwrite(fileName, mask)\n",
    "    i=i+1"
   ]
  },
  {
   "cell_type": "code",
   "execution_count": 16,
   "id": "ab067185",
   "metadata": {},
   "outputs": [
    {
     "data": {
      "text/plain": [
       "True"
      ]
     },
     "execution_count": 16,
     "metadata": {},
     "output_type": "execute_result"
    }
   ],
   "source": [
    "cv2.imwrite('trial.jpg', masks[0])"
   ]
  },
  {
   "cell_type": "code",
   "execution_count": 21,
   "id": "30e8dcb9",
   "metadata": {},
   "outputs": [
    {
     "data": {
      "text/plain": [
       "['./data\\\\raw\\\\8094\\\\0.jpg',\n",
       " './data\\\\raw\\\\8094\\\\1.jpg',\n",
       " './data\\\\raw\\\\8094\\\\10.jpg',\n",
       " './data\\\\raw\\\\8094\\\\11.jpg',\n",
       " './data\\\\raw\\\\8094\\\\12.jpg',\n",
       " './data\\\\raw\\\\8094\\\\13.jpg',\n",
       " './data\\\\raw\\\\8094\\\\14.jpg',\n",
       " './data\\\\raw\\\\8094\\\\15.jpg',\n",
       " './data\\\\raw\\\\8094\\\\16.jpg',\n",
       " './data\\\\raw\\\\8094\\\\17.jpg',\n",
       " './data\\\\raw\\\\8094\\\\18.jpg',\n",
       " './data\\\\raw\\\\8094\\\\19.jpg',\n",
       " './data\\\\raw\\\\8094\\\\2.jpg',\n",
       " './data\\\\raw\\\\8094\\\\20.jpg',\n",
       " './data\\\\raw\\\\8094\\\\21.jpg',\n",
       " './data\\\\raw\\\\8094\\\\22.jpg',\n",
       " './data\\\\raw\\\\8094\\\\23.jpg',\n",
       " './data\\\\raw\\\\8094\\\\24.jpg',\n",
       " './data\\\\raw\\\\8094\\\\25.jpg',\n",
       " './data\\\\raw\\\\8094\\\\26.jpg',\n",
       " './data\\\\raw\\\\8094\\\\27.jpg',\n",
       " './data\\\\raw\\\\8094\\\\28.jpg',\n",
       " './data\\\\raw\\\\8094\\\\29.jpg',\n",
       " './data\\\\raw\\\\8094\\\\3.jpg',\n",
       " './data\\\\raw\\\\8094\\\\30.jpg',\n",
       " './data\\\\raw\\\\8094\\\\31.jpg',\n",
       " './data\\\\raw\\\\8094\\\\32.jpg',\n",
       " './data\\\\raw\\\\8094\\\\33.jpg',\n",
       " './data\\\\raw\\\\8094\\\\34.jpg',\n",
       " './data\\\\raw\\\\8094\\\\35.jpg',\n",
       " './data\\\\raw\\\\8094\\\\36.jpg',\n",
       " './data\\\\raw\\\\8094\\\\37.jpg',\n",
       " './data\\\\raw\\\\8094\\\\38.jpg',\n",
       " './data\\\\raw\\\\8094\\\\39.jpg',\n",
       " './data\\\\raw\\\\8094\\\\4.jpg',\n",
       " './data\\\\raw\\\\8094\\\\40.jpg',\n",
       " './data\\\\raw\\\\8094\\\\41.jpg',\n",
       " './data\\\\raw\\\\8094\\\\42.jpg',\n",
       " './data\\\\raw\\\\8094\\\\43.jpg',\n",
       " './data\\\\raw\\\\8094\\\\44.jpg',\n",
       " './data\\\\raw\\\\8094\\\\45.jpg',\n",
       " './data\\\\raw\\\\8094\\\\5.jpg',\n",
       " './data\\\\raw\\\\8094\\\\6.jpg',\n",
       " './data\\\\raw\\\\8094\\\\7.jpg',\n",
       " './data\\\\raw\\\\8094\\\\8.jpg',\n",
       " './data\\\\raw\\\\8094\\\\9.jpg']"
      ]
     },
     "execution_count": 21,
     "metadata": {},
     "output_type": "execute_result"
    }
   ],
   "source": [
    "listOfImages"
   ]
  },
  {
   "cell_type": "code",
   "execution_count": null,
   "id": "511af51f",
   "metadata": {},
   "outputs": [],
   "source": []
  }
 ],
 "metadata": {
  "kernelspec": {
   "display_name": "Python 3",
   "language": "python",
   "name": "python3"
  },
  "language_info": {
   "codemirror_mode": {
    "name": "ipython",
    "version": 3
   },
   "file_extension": ".py",
   "mimetype": "text/x-python",
   "name": "python",
   "nbconvert_exporter": "python",
   "pygments_lexer": "ipython3",
   "version": "3.8.8"
  }
 },
 "nbformat": 4,
 "nbformat_minor": 5
}
